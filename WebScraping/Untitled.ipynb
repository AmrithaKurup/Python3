{
 "cells": [
  {
   "cell_type": "code",
   "execution_count": 7,
   "id": "f3a278fd",
   "metadata": {},
   "outputs": [],
   "source": [
    "import requests\n",
    "result = requests.get(\"https://en.wikipedia.org/wiki/Mohanlal\")"
   ]
  },
  {
   "cell_type": "code",
   "execution_count": 8,
   "id": "ac812ec5",
   "metadata": {},
   "outputs": [
    {
     "data": {
      "text/plain": [
       "requests.models.Response"
      ]
     },
     "execution_count": 8,
     "metadata": {},
     "output_type": "execute_result"
    }
   ],
   "source": [
    "type(result)"
   ]
  },
  {
   "cell_type": "code",
   "execution_count": 12,
   "id": "fed32be0",
   "metadata": {},
   "outputs": [],
   "source": [
    "import bs4\n",
    "soup = bs4.BeautifulSoup(result.text, 'lxml')"
   ]
  },
  {
   "cell_type": "code",
   "execution_count": 20,
   "id": "ab1daeba",
   "metadata": {},
   "outputs": [
    {
     "data": {
      "text/plain": [
       "'Mohanlal - Wikipedia'"
      ]
     },
     "execution_count": 20,
     "metadata": {},
     "output_type": "execute_result"
    }
   ],
   "source": [
    "soup.select('title')[0].getText()"
   ]
  },
  {
   "cell_type": "code",
   "execution_count": 18,
   "id": "46ff777d",
   "metadata": {},
   "outputs": [
    {
     "data": {
      "text/plain": [
       "[<h1 class=\"firstHeading mw-first-heading\" id=\"firstHeading\"><span class=\"mw-page-title-main\">Mohanlal</span></h1>]"
      ]
     },
     "execution_count": 18,
     "metadata": {},
     "output_type": "execute_result"
    }
   ],
   "source": [
    "soup.select('h1')"
   ]
  },
  {
   "cell_type": "code",
   "execution_count": 21,
   "id": "1b77bc2c",
   "metadata": {},
   "outputs": [],
   "source": [
    "res= requests.get(\"https://en.wikipedia.org/wiki/Mohanlal\")"
   ]
  },
  {
   "cell_type": "code",
   "execution_count": 22,
   "id": "12ca7e8a",
   "metadata": {},
   "outputs": [],
   "source": [
    "soup = bs4.BeautifulSoup(res.text, 'lxml')"
   ]
  },
  {
   "cell_type": "code",
   "execution_count": 24,
   "id": "a1def10c",
   "metadata": {},
   "outputs": [
    {
     "data": {
      "text/plain": [
       "[<div class=\"vector-toc-text\">(Top)</div>,\n",
       " <div class=\"vector-toc-text\">\n",
       " <span class=\"vector-toc-numb\">1</span>Early life</div>,\n",
       " <div class=\"vector-toc-text\">\n",
       " <span class=\"vector-toc-numb\">2</span>Film career</div>,\n",
       " <div class=\"vector-toc-text\">\n",
       " <span class=\"vector-toc-numb\">2.1</span>Early years (1978–1985)</div>,\n",
       " <div class=\"vector-toc-text\">\n",
       " <span class=\"vector-toc-numb\">2.2</span>1986–2000</div>,\n",
       " <div class=\"vector-toc-text\">\n",
       " <span class=\"vector-toc-numb\">2.3</span>2000–09</div>,\n",
       " <div class=\"vector-toc-text\">\n",
       " <span class=\"vector-toc-numb\">2.4</span>2010–2015</div>,\n",
       " <div class=\"vector-toc-text\">\n",
       " <span class=\"vector-toc-numb\">2.5</span>2016–present</div>,\n",
       " <div class=\"vector-toc-text\">\n",
       " <span class=\"vector-toc-numb\">3</span>Other projects</div>,\n",
       " <div class=\"vector-toc-text\">\n",
       " <span class=\"vector-toc-numb\">3.1</span>Stage performances</div>,\n",
       " <div class=\"vector-toc-text\">\n",
       " <span class=\"vector-toc-numb\">3.2</span>Goodwill and brand ambassador</div>,\n",
       " <div class=\"vector-toc-text\">\n",
       " <span class=\"vector-toc-numb\">3.3</span>Business and other ventures</div>,\n",
       " <div class=\"vector-toc-text\">\n",
       " <span class=\"vector-toc-numb\">3.4</span>Escape art</div>,\n",
       " <div class=\"vector-toc-text\">\n",
       " <span class=\"vector-toc-numb\">4</span>In the media</div>,\n",
       " <div class=\"vector-toc-text\">\n",
       " <span class=\"vector-toc-numb\">5</span>Personal life</div>,\n",
       " <div class=\"vector-toc-text\">\n",
       " <span class=\"vector-toc-numb\">6</span>Filmography and discography</div>,\n",
       " <div class=\"vector-toc-text\">\n",
       " <span class=\"vector-toc-numb\">7</span>Accolades</div>,\n",
       " <div class=\"vector-toc-text\">\n",
       " <span class=\"vector-toc-numb\">8</span>References</div>,\n",
       " <div class=\"vector-toc-text\">\n",
       " <span class=\"vector-toc-numb\">9</span>External links</div>]"
      ]
     },
     "execution_count": 24,
     "metadata": {},
     "output_type": "execute_result"
    }
   ],
   "source": [
    "soup.select('.vector-toc-text')"
   ]
  },
  {
   "cell_type": "code",
   "execution_count": 33,
   "id": "a1f89c32",
   "metadata": {},
   "outputs": [
    {
     "data": {
      "text/plain": [
       "'(Top)'"
      ]
     },
     "execution_count": 33,
     "metadata": {},
     "output_type": "execute_result"
    }
   ],
   "source": [
    "first_item = soup.select('.vector-toc-text')[0]\n",
    "first_item.text"
   ]
  },
  {
   "cell_type": "code",
   "execution_count": 37,
   "id": "15ac5d29",
   "metadata": {},
   "outputs": [
    {
     "name": "stdout",
     "output_type": "stream",
     "text": [
      "(Top)\n",
      "\n",
      "1Early life\n",
      "\n",
      "2Film career\n",
      "\n",
      "2.1Early years (1978–1985)\n",
      "\n",
      "2.21986–2000\n",
      "\n",
      "2.32000–09\n",
      "\n",
      "2.42010–2015\n",
      "\n",
      "2.52016–present\n",
      "\n",
      "3Other projects\n",
      "\n",
      "3.1Stage performances\n",
      "\n",
      "3.2Goodwill and brand ambassador\n",
      "\n",
      "3.3Business and other ventures\n",
      "\n",
      "3.4Escape art\n",
      "\n",
      "4In the media\n",
      "\n",
      "5Personal life\n",
      "\n",
      "6Filmography and discography\n",
      "\n",
      "7Accolades\n",
      "\n",
      "8References\n",
      "\n",
      "9External links\n"
     ]
    }
   ],
   "source": [
    "for item in soup.select('.vector-toc-text'):\n",
    "    print(item.text)"
   ]
  },
  {
   "cell_type": "markdown",
   "id": "76532989",
   "metadata": {},
   "source": [
    "item.text"
   ]
  },
  {
   "cell_type": "code",
   "execution_count": 46,
   "id": "ed93717e",
   "metadata": {},
   "outputs": [],
   "source": []
  },
  {
   "cell_type": "code",
   "execution_count": 49,
   "id": "a3663da6",
   "metadata": {},
   "outputs": [
    {
     "data": {
      "text/plain": [
       "[]"
      ]
     },
     "execution_count": 49,
     "metadata": {},
     "output_type": "execute_result"
    }
   ],
   "source": []
  },
  {
   "cell_type": "code",
   "execution_count": 50,
   "id": "350b62a1",
   "metadata": {},
   "outputs": [],
   "source": [
    "res= requests.get(\"https://en.wikipedia.org/wiki/Deep_Blue_(chess_computer)\")"
   ]
  },
  {
   "cell_type": "code",
   "execution_count": 51,
   "id": "5faa09a2",
   "metadata": {},
   "outputs": [],
   "source": [
    "soup = bs4.BeautifulSoup(res.text, 'lxml')"
   ]
  },
  {
   "cell_type": "code",
   "execution_count": 57,
   "id": "6f6181e2",
   "metadata": {},
   "outputs": [],
   "source": [
    "c = soup.select('img')[0]"
   ]
  },
  {
   "cell_type": "code",
   "execution_count": 58,
   "id": "edaa92b5",
   "metadata": {},
   "outputs": [
    {
     "data": {
      "text/plain": [
       "<img alt=\"\" aria-hidden=\"true\" class=\"mw-logo-icon\" height=\"50\" src=\"/static/images/icons/wikipedia.png\" width=\"50\"/>"
      ]
     },
     "execution_count": 58,
     "metadata": {},
     "output_type": "execute_result"
    }
   ],
   "source": [
    "c"
   ]
  },
  {
   "cell_type": "code",
   "execution_count": null,
   "id": "933a0cf5",
   "metadata": {},
   "outputs": [],
   "source": []
  }
 ],
 "metadata": {
  "kernelspec": {
   "display_name": "Python 3 (ipykernel)",
   "language": "python",
   "name": "python3"
  },
  "language_info": {
   "codemirror_mode": {
    "name": "ipython",
    "version": 3
   },
   "file_extension": ".py",
   "mimetype": "text/x-python",
   "name": "python",
   "nbconvert_exporter": "python",
   "pygments_lexer": "ipython3",
   "version": "3.9.13"
  }
 },
 "nbformat": 4,
 "nbformat_minor": 5
}
